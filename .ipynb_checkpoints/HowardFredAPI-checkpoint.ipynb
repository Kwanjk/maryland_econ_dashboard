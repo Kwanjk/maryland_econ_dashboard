{
 "cells": [
  {
   "cell_type": "code",
   "execution_count": 6,
   "id": "c11573cf-12fd-45fe-b9ef-e63aa83a5de1",
   "metadata": {},
   "outputs": [
    {
     "name": "stdout",
     "output_type": "stream",
     "text": [
      "✅ Saved: Howard_Housing_Indicators.csv\n",
      "        Date  Median_Listing_Price  Active_Listings  Permits_Annual  \\\n",
      "0 2016-07-31              499945.0           1189.0          2154.0   \n",
      "1 2016-08-31              492448.0           1188.0          2154.0   \n",
      "2 2016-09-30              497413.0           1187.0          2154.0   \n",
      "3 2016-10-31              485495.0           1154.0          2154.0   \n",
      "4 2016-11-30              474900.0           1045.0          2154.0   \n",
      "\n",
      "   Population_Annual  \n",
      "0            315.581  \n",
      "1            315.581  \n",
      "2            315.581  \n",
      "3            315.581  \n",
      "4            315.581  \n",
      "          Date  Median_Listing_Price  Active_Listings  Permits_Annual  \\\n",
      "106 2025-05-31              695000.0            423.0           881.0   \n",
      "107 2025-06-30              692450.0            449.0           881.0   \n",
      "108 2025-07-31              680000.0            478.0           881.0   \n",
      "109 2025-08-31              669950.0            511.0           881.0   \n",
      "110 2025-09-30              649450.0            503.0           881.0   \n",
      "\n",
      "     Population_Annual  \n",
      "106            339.668  \n",
      "107            339.668  \n",
      "108            339.668  \n",
      "109            339.668  \n",
      "110            339.668  \n"
     ]
    },
    {
     "name": "stderr",
     "output_type": "stream",
     "text": [
      "C:\\Users\\Thanos\\AppData\\Local\\Temp\\ipykernel_36184\\1971402273.py:43: FutureWarning: 'M' is deprecated and will be removed in a future version, please use 'ME' instead.\n",
      "  .reindex(pd.date_range(annual.index.min(), monthly['Date'].max(), freq='M'))\n"
     ]
    }
   ],
   "source": [
    "# Howard County Housing Indicators from FRED (Final Fixed Version)\n",
    "\n",
    "from fredapi import Fred\n",
    "import pandas as pd\n",
    "import os\n",
    "\n",
    "# 1️ Setup\n",
    "API_KEY = \"2ccf5b794d310f8cde1d30c463f8d2d4\"  # for demo; move to env var later\n",
    "fred = Fred(api_key=API_KEY)\n",
    "\n",
    "# 2️ Monthly Realtor.com Series\n",
    "price = fred.get_series('MEDLISPRI24027')      # Median Listing Price ($), monthly\n",
    "active = fred.get_series('ACTLISCOU24027')     # Active Listing Count, monthly\n",
    "\n",
    "monthly = (\n",
    "    pd.DataFrame({\n",
    "        'Date': pd.to_datetime(price.index),\n",
    "        'Median_Listing_Price': price.values\n",
    "    })\n",
    "    .merge(active.rename('Active_Listings'),\n",
    "           left_on='Date', right_index=True, how='outer')\n",
    "    .sort_values('Date')\n",
    ")\n",
    "\n",
    "# 3️ Annual Series (Permits + Population)\n",
    "permits_y = fred.get_series('BPPRIV024027')    # Building permits (annual)\n",
    "pop_y = fred.get_series('MDHOWA0POP')          # Population (annual)\n",
    "\n",
    "annual = pd.DataFrame({\n",
    "    'Permits_Annual': permits_y,\n",
    "    'Population_Annual': pop_y\n",
    "})\n",
    "\n",
    "# Convert to YEAR-END dates for alignment with month-end data\n",
    "annual.index = pd.to_datetime(annual.index).to_period('Y').to_timestamp('M') + pd.offsets.MonthEnd(0)\n",
    "\n",
    "# Reindex annual data to month-end and forward-fill\n",
    "annual_m = (\n",
    "    annual\n",
    "    .reindex(pd.date_range(annual.index.min(), monthly['Date'].max(), freq='M'))\n",
    "    .ffill()\n",
    "    .rename_axis('Date')\n",
    "    .reset_index()\n",
    ")\n",
    "\n",
    "# Normalize all to month-end for proper merge\n",
    "monthly['Date'] = pd.to_datetime(monthly['Date']).dt.to_period('M').dt.to_timestamp('M') + pd.offsets.MonthEnd(0)\n",
    "annual_m['Date'] = pd.to_datetime(annual_m['Date']).dt.to_period('M').dt.to_timestamp('M') + pd.offsets.MonthEnd(0)\n",
    "\n",
    "# 4️ Merge\n",
    "df = monthly.merge(annual_m, on='Date', how='left')\n",
    "\n",
    "# Fill forward to include latest 2025 months\n",
    "df[['Permits_Annual', 'Population_Annual']] = df[['Permits_Annual', 'Population_Annual']].ffill()\n",
    "\n",
    "# 5️ Save\n",
    "df.to_csv('Howard_Housing_Indicators.csv', index=False)\n",
    "\n",
    "print(\"✅ Saved: Howard_Housing_Indicators.csv\")\n",
    "print(df.head(5))\n",
    "print(df.tail(5))"
   ]
  },
  {
   "cell_type": "code",
   "execution_count": 2,
   "id": "86caf517-c825-425b-bf83-0ff91d8560ee",
   "metadata": {},
   "outputs": [
    {
     "name": "stdout",
     "output_type": "stream",
     "text": [
      "1990-01-01    1303.0\n",
      "1991-01-01    1772.0\n",
      "1992-01-01    2603.0\n",
      "1993-01-01    1861.0\n",
      "1994-01-01    1966.0\n",
      "1995-01-01    1799.0\n",
      "1996-01-01    1726.0\n",
      "1997-01-01    2156.0\n",
      "1998-01-01    2205.0\n",
      "1999-01-01    2295.0\n",
      "2000-01-01    2182.0\n",
      "2001-01-01    1327.0\n",
      "2002-01-01    1547.0\n",
      "2003-01-01    1479.0\n",
      "2004-01-01    1837.0\n",
      "2005-01-01    1778.0\n",
      "2006-01-01    1567.0\n",
      "2007-01-01    1388.0\n",
      "2008-01-01     947.0\n",
      "2009-01-01    1473.0\n",
      "2010-01-01    1151.0\n",
      "2011-01-01    1177.0\n",
      "2012-01-01    1686.0\n",
      "2013-01-01    2267.0\n",
      "2014-01-01    1446.0\n",
      "2015-01-01    1593.0\n",
      "2016-01-01    2154.0\n",
      "2017-01-01    1219.0\n",
      "2018-01-01    2046.0\n",
      "2019-01-01     779.0\n",
      "2020-01-01    1062.0\n",
      "2021-01-01    1735.0\n",
      "2022-01-01     571.0\n",
      "2023-01-01     798.0\n",
      "2024-01-01     881.0\n",
      "dtype: float64\n"
     ]
    }
   ],
   "source": [
    "permits_y = fred.get_series('BPPRIV024027')\n",
    "print(permits_y)\n"
   ]
  },
  {
   "cell_type": "code",
   "execution_count": null,
   "id": "444d8cd2-1804-4c57-8710-fbee57435adf",
   "metadata": {},
   "outputs": [],
   "source": []
  }
 ],
 "metadata": {
  "kernelspec": {
   "display_name": "Python 3 (ipykernel)",
   "language": "python",
   "name": "python3"
  },
  "language_info": {
   "codemirror_mode": {
    "name": "ipython",
    "version": 3
   },
   "file_extension": ".py",
   "mimetype": "text/x-python",
   "name": "python",
   "nbconvert_exporter": "python",
   "pygments_lexer": "ipython3",
   "version": "3.13.7"
  }
 },
 "nbformat": 4,
 "nbformat_minor": 5
}
