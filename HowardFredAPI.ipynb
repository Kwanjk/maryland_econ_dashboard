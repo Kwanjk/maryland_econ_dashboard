{
 "cells": [
  {
   "cell_type": "code",
   "execution_count": 4,
   "id": "c11573cf-12fd-45fe-b9ef-e63aa83a5de1",
   "metadata": {},
   "outputs": [
    {
     "name": "stdout",
     "output_type": "stream",
     "text": [
      "✅ Saved: Howard_Housing_Indicators.csv\n",
      "          Date  Median_Listing_Price  Active_Listings  Permits_Annual  \\\n",
      "106 2025-05-01              695000.0            423.0             NaN   \n",
      "107 2025-06-01              692450.0            449.0             NaN   \n",
      "108 2025-07-01              680000.0            478.0             NaN   \n",
      "109 2025-08-01              669950.0            511.0             NaN   \n",
      "110 2025-09-01              649450.0            503.0             NaN   \n",
      "\n",
      "     Population_Annual  \n",
      "106                NaN  \n",
      "107                NaN  \n",
      "108                NaN  \n",
      "109                NaN  \n",
      "110                NaN  \n"
     ]
    }
   ],
   "source": [
    "from fredapi import Fred\n",
    "import pandas as pd\n",
    "\n",
    "API_KEY = \"2ccf5b794d310f8cde1d30c463f8d2d4\"  # consider moving to an env var later\n",
    "fred = Fred(api_key=API_KEY)\n",
    "\n",
    "# Pull monthly Realtor.com series (Howard County) \n",
    "price = fred.get_series('MEDLISPRI24027')         # Median Listing Price ($), monthly\n",
    "active = fred.get_series('ACTLISCOU24027')        # Active Listing Count, monthly\n",
    "\n",
    "# Put monthly into one DataFrame\n",
    "monthly = pd.DataFrame({\n",
    "    'Date': pd.to_datetime(price.index),\n",
    "    'Median_Listing_Price': price.values\n",
    "}).merge(\n",
    "    active.rename('Active_Listings'),\n",
    "    left_on='Date', right_index=True, how='outer'\n",
    ").sort_values('Date')\n",
    "\n",
    "# Pull annual series and align to monthly index \n",
    "permits_y = fred.get_series('BPPRIV024027')       # New private housing permits, annual\n",
    "pop_y = fred.get_series('MDHOWA0POP')             # Resident population, annual (optional)\n",
    "\n",
    "annual = pd.DataFrame({\n",
    "    'Permits_Annual': permits_y,\n",
    "    'Population_Annual': pop_y\n",
    "})\n",
    "# Convert annual dates to period-year start for merge, then upsample to monthly and forward-fill\n",
    "annual.index = pd.to_datetime(annual.index).to_period('Y').to_timestamp('M') + pd.offsets.MonthEnd(0)\n",
    "annual_m = (\n",
    "    annual\n",
    "    .reindex(pd.date_range(annual.index.min(), monthly['Date'].max(), freq='ME'))\n",
    "    .ffill()\n",
    "    .rename_axis('Date')\n",
    "    .reset_index()\n",
    ")\n",
    "\n",
    "# Combine monthly + (annual→monthly) and save \n",
    "df = monthly.merge(annual_m, on='Date', how='left')\n",
    "df.to_csv('Howard_Housing_Indicators.csv', index=False)\n",
    "\n",
    "print(\"✅ Saved: Howard_Housing_Indicators.csv\")\n",
    "print(df.tail())"
   ]
  },
  {
   "cell_type": "code",
   "execution_count": null,
   "id": "48da2e8d-0d68-4cee-ab74-26242d458703",
   "metadata": {},
   "outputs": [],
   "source": []
  }
 ],
 "metadata": {
  "kernelspec": {
   "display_name": "Python 3 (ipykernel)",
   "language": "python",
   "name": "python3"
  },
  "language_info": {
   "codemirror_mode": {
    "name": "ipython",
    "version": 3
   },
   "file_extension": ".py",
   "mimetype": "text/x-python",
   "name": "python",
   "nbconvert_exporter": "python",
   "pygments_lexer": "ipython3",
   "version": "3.13.7"
  }
 },
 "nbformat": 4,
 "nbformat_minor": 5
}
